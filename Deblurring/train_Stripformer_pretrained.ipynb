{
 "cells": [
  {
   "cell_type": "code",
   "execution_count": 4,
   "id": "38af0cf6-1c47-4684-b001-65fd99372b63",
   "metadata": {},
   "outputs": [],
   "source": [
    "from glob import glob\n",
    "from torch.utils.data import Dataset\n",
    "import cv2\n",
    "from torch.utils.data import DataLoader\n",
    "from torchvision import transforms\n",
    "import numpy as np\n",
    "import albumentations as albu"
   ]
  },
  {
   "cell_type": "code",
   "execution_count": 5,
   "id": "e4563dfb-965f-44d5-ac92-fe58e8b4b93b",
   "metadata": {},
   "outputs": [],
   "source": [
    "# 数据增强\n",
    "def get_transforms(size):\n",
    "    aug_fn = albu.Compose([albu.HorizontalFlip(),  # 水平翻转\n",
    "                           albu.VerticalFlip(),  # 垂直翻转\n",
    "                           albu.RandomRotate90()  # 随机旋转90度\n",
    "                           ])\n",
    "    crop_fn = albu.RandomCrop(size, size, always_apply=True) # 裁剪输入的随机部分\n",
    "    pipeline = albu.Compose([aug_fn, crop_fn], additional_targets={'target': 'image'})\n",
    "\n",
    "    def process(a, b):\n",
    "        r = pipeline(image=a, target=b)\n",
    "        return r['image'], r['target']\n",
    "\n",
    "    return process\n",
    "\n",
    "def get_normalize():\n",
    "    transform = transforms.ToTensor()\n",
    "\n",
    "    def process(a, b):\n",
    "        image = transform(a).permute(1, 2, 0) - 0.5\n",
    "        target = transform(b).permute(1, 2, 0) - 0.5\n",
    "        return image, target\n",
    "\n",
    "    return process"
   ]
  },
  {
   "cell_type": "code",
   "execution_count": 6,
   "id": "ce55471c-8b0a-4d6f-a38f-7732de556c1c",
   "metadata": {},
   "outputs": [],
   "source": [
    "transform_fn = get_transforms(256)\n",
    "normalize_fn = get_normalize()"
   ]
  },
  {
   "cell_type": "code",
   "execution_count": 7,
   "id": "9431423e-2d70-46fa-84e6-be7d9f49946b",
   "metadata": {},
   "outputs": [],
   "source": [
    "train_blur = sorted(glob(\"./datasets/GoPro/train/blur/**/*.png\", recursive=True))\n",
    "train_sharp = sorted(glob(\"./datasets/GoPro/train/sharp/**/*.png\", recursive=True))\n",
    "val_blur = sorted(glob(\"./datasets/GoPro/test/blur/**/*.png\", recursive=True))\n",
    "val_sharp = sorted(glob(\"./datasets/GoPro/test/blur/**/*.png\", recursive=True))"
   ]
  },
  {
   "cell_type": "code",
   "execution_count": 8,
   "id": "92dd9c29-679c-4afa-9c5c-23a32543554b",
   "metadata": {},
   "outputs": [],
   "source": [
    "# 打包sharp和blur\n",
    "class PairedDataset(Dataset):\n",
    "    def __init__(self, files_a, files_b, transform_fn, normalize_fn):\n",
    "        \"\"\"files_a:blur, files_b:sharp\"\"\"\n",
    "        self.data_a = files_a\n",
    "        self.data_b = files_b\n",
    "        self.transform_fn = transform_fn\n",
    "        self.normalize_fn = normalize_fn\n",
    "        \n",
    "    def preprocess(self, img, res):\n",
    "        def transpose(x):\n",
    "            return np.transpose(x, (2, 0, 1))\n",
    "\n",
    "        return map(transpose, self.normalize_fn(img, res))\n",
    "    \n",
    "    def __len__(self):\n",
    "        return len(self.data_a)\n",
    "    def __getitem__(self, idx):\n",
    "        a, b = self.data_a[idx], self.data_b[idx]\n",
    "        a = cv2.imread(a)\n",
    "        b = cv2.imread(b)\n",
    "        a, b = self.transform_fn(a, b)\n",
    "        a, b = self.preprocess(a, b)\n",
    "        return {'a': a, 'b': b}"
   ]
  },
  {
   "cell_type": "code",
   "execution_count": 9,
   "id": "dd2d4903-99cc-4d92-b247-6ddd420ad5f2",
   "metadata": {},
   "outputs": [],
   "source": [
    "train_datasets = PairedDataset(train_blur, train_sharp, transform_fn, normalize_fn)\n",
    "val_datasets = PairedDataset(val_blur, val_sharp, transform_fn, normalize_fn)\n",
    "\n",
    "train = DataLoader(train_datasets, batch_size=8, num_workers=0, shuffle=True)\n",
    "val = DataLoader(val_datasets, batch_size=8, num_workers=0, shuffle=True)"
   ]
  },
  {
   "cell_type": "code",
   "execution_count": 47,
   "id": "86e7ca48-d3ab-47a7-a3c1-831ad8594700",
   "metadata": {},
   "outputs": [
    {
     "name": "stdout",
     "output_type": "stream",
     "text": [
      "2103\n",
      "1111\n",
      "263\n",
      "139\n",
      "torch.Size([3, 256, 256])\n",
      "torch.Size([3, 256, 256])\n",
      "torch.Size([3, 256, 256])\n",
      "torch.Size([3, 256, 256])\n",
      "torch.Size([8, 3, 256, 256])\n"
     ]
    }
   ],
   "source": [
    "# 验证过程\n",
    "print(len(train_datasets))\n",
    "print(len(val_datasets))\n",
    "\n",
    "print(len(train))\n",
    "print(len(val))\n",
    "\n",
    "print(train_datasets.__getitem__(0)['a'].shape)\n",
    "print(train_datasets.__getitem__(0)['b'].shape)\n",
    "print(val_datasets.__getitem__(0)['a'].shape)\n",
    "print(val_datasets.__getitem__(0)['b'].shape)\n",
    "\n",
    "train_test = next(iter(train))\n",
    "print(train_test['a'].shape)"
   ]
  }
 ],
 "metadata": {
  "kernelspec": {
   "display_name": "pytorch",
   "language": "python",
   "name": "pytorch"
  },
  "language_info": {
   "codemirror_mode": {
    "name": "ipython",
    "version": 3
   },
   "file_extension": ".py",
   "mimetype": "text/x-python",
   "name": "python",
   "nbconvert_exporter": "python",
   "pygments_lexer": "ipython3",
   "version": "3.9.13"
  }
 },
 "nbformat": 4,
 "nbformat_minor": 5
}
